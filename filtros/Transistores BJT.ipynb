{
 "metadata": {
  "name": "",
  "signature": "sha256:277c35718ad44a28475fae3a464d6f7316a5541931e51e0bed9fdccb6695a5b4"
 },
 "nbformat": 3,
 "nbformat_minor": 0,
 "worksheets": [
  {
   "cells": [
    {
     "cell_type": "heading",
     "level": 1,
     "metadata": {},
     "source": [
      "Bipolar Junction Transistores"
     ]
    },
    {
     "cell_type": "markdown",
     "metadata": {},
     "source": [
      "Existen de dos tipos:"
     ]
    },
    {
     "cell_type": "code",
     "collapsed": false,
     "input": [
      "from IPython.display import IFrame\n",
      "IFrame('http://ocw.um.es/ingenierias/tecnologia-y-sistemas-electronicos/material-de-clase-1/tema-3.-transistores-de-union-bipolar-bjt.pdf', width=1024, height=600)"
     ],
     "language": "python",
     "metadata": {},
     "outputs": [
      {
       "html": [
        "\n",
        "        <iframe\n",
        "            width=\"1024\"\n",
        "            height=600\"\n",
        "            src=\"http://ocw.um.es/ingenierias/tecnologia-y-sistemas-electronicos/material-de-clase-1/tema-3.-transistores-de-union-bipolar-bjt.pdf\"\n",
        "            frameborder=\"0\"\n",
        "            allowfullscreen\n",
        "        ></iframe>\n",
        "        "
       ],
       "metadata": {},
       "output_type": "pyout",
       "prompt_number": 2,
       "text": [
        "<IPython.lib.display.IFrame at 0x7fdb60e34150>"
       ]
      }
     ],
     "prompt_number": 2
    },
    {
     "cell_type": "markdown",
     "metadata": {},
     "source": [
      "Relaciones importantes:"
     ]
    },
    {
     "cell_type": "heading",
     "level": 2,
     "metadata": {},
     "source": [
      "Relaciones de corrientes:"
     ]
    },
    {
     "cell_type": "markdown",
     "metadata": {},
     "source": [
      "\\begin{eqnarray}\n",
      "I_C = \\beta I_B\\\\\n",
      "I_E = I_C + I_E\\\\\n",
      "V_{BC} = V_{\\gamma}\n",
      "\\end{eqnarray}"
     ]
    },
    {
     "cell_type": "code",
     "collapsed": false,
     "input": [],
     "language": "python",
     "metadata": {},
     "outputs": []
    }
   ],
   "metadata": {}
  }
 ]
}