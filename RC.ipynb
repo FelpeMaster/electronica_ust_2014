{
 "metadata": {
  "name": "",
  "signature": "sha256:90a990d11d8ebc1c6739ca26e37f8f3b1eb1bee9f7aad4007ecaa1db8b10e798"
 },
 "nbformat": 3,
 "nbformat_minor": 0,
 "worksheets": [
  {
   "cells": [
    {
     "cell_type": "heading",
     "level": 1,
     "metadata": {},
     "source": [
      "Circuitos de primer orden"
     ]
    },
    {
     "cell_type": "heading",
     "level": 1,
     "metadata": {},
     "source": [
      "Circuito RC"
     ]
    },
    {
     "cell_type": "code",
     "collapsed": false,
     "input": [
      "from IPython.display import Image\n",
      "Image(filename='/home/felipe/rc.png')"
     ],
     "language": "python",
     "metadata": {},
     "outputs": [
      {
       "metadata": {},
       "output_type": "pyout",
       "png": "[encoded data removed]",
       "prompt_number": 1,
       "text": [
        "<IPython.core.display.Image at 0x7f46570e1910>"
       ]
      }
     ],
     "prompt_number": 1
    },
    {
     "cell_type": "heading",
     "level": 2,
     "metadata": {},
     "source": [
      "$v(t) = V_s(1 - e^{\\frac{-t}{RC}}) + V_0e^{\\frac{-t}{RC}}$"
     ]
    },
    {
     "cell_type": "heading",
     "level": 3,
     "metadata": {},
     "source": [
      "si $t = 0$"
     ]
    },
    {
     "cell_type": "heading",
     "level": 3,
     "metadata": {},
     "source": [
      "$v(t = 0) = V_0$"
     ]
    },
    {
     "cell_type": "heading",
     "level": 3,
     "metadata": {},
     "source": [
      "si $t \\rightarrow +\\infty$"
     ]
    },
    {
     "cell_type": "heading",
     "level": 3,
     "metadata": {},
     "source": [
      "$\\lim\\limits_{t\\rightarrow +\\infty}v(t) = V_s$"
     ]
    },
    {
     "cell_type": "heading",
     "level": 2,
     "metadata": {},
     "source": [
      "ej: si $C = 100mF; R = 1k\\Omega; Vs = 5V; V_0 = -4V$"
     ]
    },
    {
     "cell_type": "heading",
     "level": 2,
     "metadata": {},
     "source": [
      "Determinemos $\\tau$ (constante de tiempo)"
     ]
    },
    {
     "cell_type": "heading",
     "level": 3,
     "metadata": {},
     "source": [
      "$\\tau = R \\times C$"
     ]
    },
    {
     "cell_type": "heading",
     "level": 2,
     "metadata": {},
     "source": [
      "$\\tau = (1000 \\Omega) \\times (100 \\times 10^{-3}F)$"
     ]
    },
    {
     "cell_type": "heading",
     "level": 3,
     "metadata": {},
     "source": [
      "$\\tau = 100 s$"
     ]
    },
    {
     "cell_type": "code",
     "collapsed": false,
     "input": [
      "%pylab inline\n",
      "import numpy as np\n",
      "import matplotlib.pyplot as plt\n",
      "tau = 100\n",
      "vs = 5\n",
      "v0 = 15\n",
      "t = np.arange(0,tau*10,0.1)\n",
      "v = vs*(1 - np.exp(-t/tau)) + v0*(np.exp(-t/tau))\n",
      "plt.plot(t,v)\n",
      "plt.grid()\n",
      "plt.show()"
     ],
     "language": "python",
     "metadata": {},
     "outputs": [
      {
       "output_type": "stream",
       "stream": "stdout",
       "text": [
        "Populating the interactive namespace from numpy and matplotlib\n"
       ]
      },
      {
       "metadata": {},
       "output_type": "display_data",
       "png": "[encoded data removed]",
       "text": [
        "<matplotlib.figure.Figure at 0x7fec6c732cd0>"
       ]
      }
     ],
     "prompt_number": 1
    },
    {
     "cell_type": "heading",
     "level": 1,
     "metadata": {},
     "source": [
      "\u00bfY la corriente?"
     ]
    },
    {
     "cell_type": "heading",
     "level": 2,
     "metadata": {},
     "source": [
      "$i = C \\frac{dv}{dt}$"
     ]
    },
    {
     "cell_type": "heading",
     "level": 2,
     "metadata": {},
     "source": [
      "si $v(t) = V_s(1 - e^{\\frac{-t}{RC}}) + V_0e^{\\frac{-t}{RC}}$"
     ]
    },
    {
     "cell_type": "heading",
     "level": 2,
     "metadata": {},
     "source": [
      "$i = V_s \\times (-)(-)\\frac{1}{RC} \\times e^{\\frac{-t}{RC}} + V_0 \\times (-)\\frac{1}{RC} \\times e^{\\frac{-t}{RC}}$"
     ]
    },
    {
     "cell_type": "heading",
     "level": 3,
     "metadata": {},
     "source": [
      "$i = V_s \\times \\frac{1}{RC} \\times e^{\\frac{-t}{RC}} + V_0 \\times (-)\\frac{1}{RC} \\times e^{\\frac{-t}{RC}}$ "
     ]
    },
    {
     "cell_type": "heading",
     "level": 2,
     "metadata": {},
     "source": [
      "$i = \\frac{ e^{\\frac{-t}{RC}}}{RC} (V_s - V_0)$ "
     ]
    },
    {
     "cell_type": "code",
     "collapsed": false,
     "input": [
      "import numpy as np\n",
      "import matplotlib.pyplot as plt\n",
      "tau = 150.0\n",
      "vs = 5.0\n",
      "v0 = -4\n",
      "t = np.arange(0,1000,0.1)\n",
      "v = vs*(1 - np.exp(-t/tau)) + v0*(np.exp(-t/tau))\n",
      "i = (100*10**-3)*(np.exp(-t/tau))*(vs - v0)/tau\n",
      "plt.subplot(2,1,1)\n",
      "plt.title('v(t)')\n",
      "plt.xlabel('Tiempo, en segundos')\n",
      "plt.ylabel('Voltaje, en Volts')\n",
      "plt.grid()\n",
      "plt.plot(t,v)\n",
      "\n",
      "plt.subplot(2,1,2)\n",
      "plt.title('i(t)')\n",
      "plt.xlabel('Tiempo, en segundos')\n",
      "plt.ylabel('Corriente, en Ampere')\n",
      "plt.plot(t,i)\n",
      "plt.grid()\n",
      "plt.show()"
     ],
     "language": "python",
     "metadata": {},
     "outputs": [
      {
       "metadata": {},
       "output_type": "display_data",
       "png": "[encoded data removed]",
       "text": [
        "<matplotlib.figure.Figure at 0x7f0eb94c8210>"
       ]
      }
     ],
     "prompt_number": 3
    }
   ],
   "metadata": {}
  }
 ]
}