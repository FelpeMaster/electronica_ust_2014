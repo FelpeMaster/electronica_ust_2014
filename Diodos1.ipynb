{
 "metadata": {
  "name": "",
  "signature": "sha256:948c64529e6bde26d255ae280462307baee155ec462eedb626a8b3bac93a8b0e"
 },
 "nbformat": 3,
 "nbformat_minor": 0,
 "worksheets": [
  {
   "cells": [
    {
     "cell_type": "heading",
     "level": 1,
     "metadata": {},
     "source": [
      "Santo Tom\u00e1s Valdivia"
     ]
    },
    {
     "cell_type": "heading",
     "level": 2,
     "metadata": {},
     "source": [
      "Clase de Electr\u00f3nica: Diodos y formas de solucionar ecuaciones no lineales"
     ]
    },
    {
     "cell_type": "heading",
     "level": 2,
     "metadata": {},
     "source": [
      "Corriente en un diodo"
     ]
    },
    {
     "cell_type": "markdown",
     "metadata": {},
     "source": [
      "$I = I_0 \\times \\left(e^{\\frac{V}{\\eta \\times V_T}} - 1\\right)$"
     ]
    },
    {
     "cell_type": "heading",
     "level": 2,
     "metadata": {},
     "source": [
      "Ejercicio 1"
     ]
    },
    {
     "cell_type": "markdown",
     "metadata": {},
     "source": [
      "S\u00ed $I_0 = 4nA, \\ V_T = 26mV, \\ V = 0,8V, \\ \\eta = 2$ Determine la corriente que circula a trav\u00e9s del diodo"
     ]
    },
    {
     "cell_type": "code",
     "collapsed": false,
     "input": [
      "import numpy as np\n",
      "I0 = 4e-9\n",
      "VT = 26e-3\n",
      "V = 0.8\n",
      "I = I0*(np.exp(V/(2*VT))-1)\n",
      "print 'I = ', I, 'A'\n",
      "print 'I = ', I*1000, 'mA'"
     ],
     "language": "python",
     "metadata": {},
     "outputs": [
      {
       "output_type": "stream",
       "stream": "stdout",
       "text": [
        "I =  0.0192093853428 A\n",
        "I =  19.2093853428 mA\n"
       ]
      }
     ],
     "prompt_number": 29
    },
    {
     "cell_type": "heading",
     "level": 2,
     "metadata": {},
     "source": [
      "Obtenci\u00f3n del voltaje en funci\u00f3n de la corriente:"
     ]
    },
    {
     "cell_type": "markdown",
     "metadata": {},
     "source": [
      "$I = I_0 \\times \\left(e^{\\frac{V}{\\eta \\times V_T}} - 1\\right)$"
     ]
    },
    {
     "cell_type": "markdown",
     "metadata": {},
     "source": [
      "$I + I_0 = I_0 \\times e^{\\frac{V}{\\eta \\times V_T}}$\n"
     ]
    },
    {
     "cell_type": "markdown",
     "metadata": {},
     "source": [
      "$\\frac{I + I_0}{I_0}  = e^{\\frac{V}{\\eta \\times V_T}}$\n"
     ]
    },
    {
     "cell_type": "markdown",
     "metadata": {},
     "source": [
      "Aplicando logaritmo natural (ln)"
     ]
    },
    {
     "cell_type": "markdown",
     "metadata": {},
     "source": [
      "Nota: al aplicar la funci\u00f3n inversa a la exponencial (logaritmo natural) solo queda el argumento como resultado"
     ]
    },
    {
     "cell_type": "markdown",
     "metadata": {},
     "source": [
      "$\\ln e^x = x, \\ $ ac\u00e1 $x$ es el argumento"
     ]
    },
    {
     "cell_type": "markdown",
     "metadata": {},
     "source": [
      "$\\ln{\\left(\\frac{I + I_0}{I_0} \\right)}  = \\ln{e^{\\frac{V}{\\eta \\times V_T}}}$"
     ]
    },
    {
     "cell_type": "markdown",
     "metadata": {},
     "source": [
      "$\\ln{\\left(\\frac{I + I_0}{I_0} \\right)}  = \\frac{V}{\\eta \\times V_T}$"
     ]
    },
    {
     "cell_type": "markdown",
     "metadata": {},
     "source": [
      "$V = \\eta \\times V_T \\times \\ln{\\left(\\frac{I + I_0}{I_0} \\right)}$"
     ]
    },
    {
     "cell_type": "markdown",
     "metadata": {},
     "source": [
      "$V = \\ln{\\left[\\left(\\frac{I + I_0}{I_0} \\right)^{\\eta \\times V_T}\\right]}$"
     ]
    },
    {
     "cell_type": "heading",
     "level": 3,
     "metadata": {},
     "source": [
      "Para el ejemplo"
     ]
    },
    {
     "cell_type": "markdown",
     "metadata": {},
     "source": [
      "$I = 20mA, \\ I_0 = 4nA, \\ V_T = 26mV, \\ \\eta = 2$"
     ]
    },
    {
     "cell_type": "markdown",
     "metadata": {},
     "source": [
      "$V = 2 \\times 26mV \\times \\ln{\\frac{20mA + 4nA}{4nA}}$"
     ]
    },
    {
     "cell_type": "code",
     "collapsed": false,
     "input": [
      "import numpy as np\n",
      "VT = 26e-3\n",
      "I0 = 4e-9\n",
      "I = 20e-3\n",
      "arg = (I+I0)/(I0)\n",
      "n = 2\n",
      "V = n*VT*np.log(arg)\n",
      "print 'V = ',  V, 'V'"
     ],
     "language": "python",
     "metadata": {},
     "outputs": [
      {
       "output_type": "stream",
       "stream": "stdout",
       "text": [
        "V =  0.802097330861 V\n"
       ]
      }
     ],
     "prompt_number": 30
    },
    {
     "cell_type": "heading",
     "level": 1,
     "metadata": {},
     "source": [
      "circuito: (21/08)"
     ]
    },
    {
     "cell_type": "code",
     "collapsed": false,
     "input": [
      "from IPython.core.display import Image \n",
      "Image(filename='/home/felipe/DR.png') "
     ],
     "language": "python",
     "metadata": {},
     "outputs": [
      {
       "metadata": {},
       "output_type": "pyout",
       "png": "[encoded data removed]",
       "prompt_number": 31,
       "text": [
        "<IPython.core.display.Image at 0x7fb636159a50>"
       ]
      }
     ],
     "prompt_number": 31
    },
    {
     "cell_type": "markdown",
     "metadata": {},
     "source": [
      "$RI_0e^{\\frac{V}{\\eta V_T}} = -V + RI_0 + V_s$"
     ]
    },
    {
     "cell_type": "markdown",
     "metadata": {},
     "source": [
      "La expresi\u00f3n anterior tiene una interpretaci\u00f3n gr\u00e1fica, por ejemplo si:"
     ]
    },
    {
     "cell_type": "markdown",
     "metadata": {},
     "source": [
      "\\begin{eqnarray}\n",
      "f_1(V) = -V + RI_0 + V_s \\\\\n",
      "f_2(V) = RI_0e^{\\frac{V}{\\eta V_T}}\n",
      "\\end{eqnarray}\n",
      "\n",
      "El valor de V se obtendr\u00e1 al interceptar ambas curvas, es decir $f_1(V^*) = f_2(V^*) \\Rightarrow V^* \\ $ es la soluci\u00f3n"
     ]
    },
    {
     "cell_type": "markdown",
     "metadata": {},
     "source": [
      "si $R = 1000 \\Omega \\ , V_s = 5 V \\ , I_0 = 4nA, \\ \\eta = 2, \\ V_T = 26mV$"
     ]
    },
    {
     "cell_type": "code",
     "collapsed": false,
     "input": [
      "%pylab inline\n",
      "import numpy as np\n",
      "import matplotlib.pyplot as plt\n",
      "V = np.arange(0.65,0.75,0.00001)\n",
      "R = 1000\n",
      "I0 = 4e-9\n",
      "n = 2\n",
      "VS = 5\n",
      "VT = 26e-3\n",
      "f1 = R*I0*np.exp(V/(n*VT))\n",
      "f2 = -V + VS + R*I0\n",
      "N = np.where(abs(f1-f2)<0.0002) # donde f1 es casi igual a f2\n",
      "print 'V =', V[N][0], 'V'\n",
      "plt.figure(figsize=(10, 6), dpi=1000)\n",
      "plt.rc(\"font\", size=22)\n",
      "plt.ion()\n",
      "plt.plot(V,f1,V,f2)\n",
      "plt.xlabel('V en volts')\n",
      "plt.title('Solucion grafica')\n",
      "plt.legend(['$f_1 = RI_0 e^{ V/(\\eta V_T) }$','$f_2 =-V + RI_0 + V_S$'], loc=2)\n",
      "plt.annotate('$V = 0,7219 V$', xy=(0.7219, 4.2), xytext=(0.69, 1.5),\n",
      "            arrowprops=dict(facecolor='black', shrink=0.05)\n",
      "            )\n",
      "plt.grid()\n",
      "plt.show()"
     ],
     "language": "python",
     "metadata": {},
     "outputs": [
      {
       "output_type": "stream",
       "stream": "stdout",
       "text": [
        "Populating the interactive namespace from numpy and matplotlib\n",
        "V = 0.7219 V\n"
       ]
      },
      {
       "metadata": {},
       "output_type": "display_data",
       "png": "[encoded data removed]",
       "text": [
        "<matplotlib.figure.Figure at 0x7fb618a94d10>"
       ]
      }
     ],
     "prompt_number": 32
    },
    {
     "cell_type": "heading",
     "level": 3,
     "metadata": {},
     "source": [
      "M\u00e9todo de Newton"
     ]
    },
    {
     "cell_type": "code",
     "collapsed": false,
     "input": [
      "from IPython.display import IFrame\n",
      "IFrame('http://es.wikipedia.org/wiki/M%C3%A9todo_de_Newton', width=1024, height=600)\n"
     ],
     "language": "python",
     "metadata": {},
     "outputs": [
      {
       "html": [
        "\n",
        "        <iframe\n",
        "            width=\"1024\"\n",
        "            height=600\"\n",
        "            src=\"http://es.wikipedia.org/wiki/M%C3%A9todo_de_Newton\"\n",
        "            frameborder=\"0\"\n",
        "            allowfullscreen\n",
        "        ></iframe>\n",
        "        "
       ],
       "metadata": {},
       "output_type": "pyout",
       "prompt_number": 1,
       "text": [
        "<IPython.lib.display.IFrame at 0x7f8b95c3c790>"
       ]
      }
     ],
     "prompt_number": 1
    },
    {
     "cell_type": "markdown",
     "metadata": {},
     "source": [
      "Primero es necesario tener la funci\u00f3n $f$ de la forma $f(x) = 0$"
     ]
    },
    {
     "cell_type": "markdown",
     "metadata": {},
     "source": [
      "$x_{n+1} = x_{n} - \\frac{f(x_n)}{f'(x_n)}$"
     ]
    },
    {
     "cell_type": "heading",
     "level": 2,
     "metadata": {},
     "source": [
      "Para el ejemplo particular:\n",
      "    "
     ]
    },
    {
     "cell_type": "markdown",
     "metadata": {},
     "source": [
      "$RI_0e^{\\frac{V}{\\eta V_T}} = -V + RI_0 + V_s \\ $ Cambiando el miembro derecho al izquierdo"
     ]
    },
    {
     "cell_type": "markdown",
     "metadata": {},
     "source": [
      "$f(V) = RI_0e^{\\frac{V}{\\eta V_T}} +V - RI_0 - V_s = 0 \\ $ Ac\u00e1 V es la variable independiente"
     ]
    },
    {
     "cell_type": "markdown",
     "metadata": {},
     "source": [
      "$f'(V) = \\frac{RI_0}{\\eta V_T}e^{\\frac{V}{\\eta V_T}} +1$"
     ]
    },
    {
     "cell_type": "markdown",
     "metadata": {},
     "source": [
      "Aplicando el algoritmo y la soluci\u00f3n aproximada gr\u00e1fica a un programa tenemos:"
     ]
    },
    {
     "cell_type": "code",
     "collapsed": false,
     "input": [
      "#Aplicaci\u00f3n del m\u00e9todo de Newton a ecuaciones no lineales\n",
      "import numpy as np\n",
      "def f(V,R,I0,n,VT,VS): # funcion f\n",
      "    f = R*I0*np.exp(V/(n*VT)) + V - R*I0 - VS\n",
      "    return f\n",
      "def fp(V,R,I0,n,VT,VS): # derivada de f\n",
      "    fp = ((R*I0)/(n*VT))*np.exp(V/(n*VT)) + 1\n",
      "    return fp\n",
      "VS = 5\n",
      "V = 0.7\n",
      "R = 1000\n",
      "I0 = 4e-9\n",
      "n = 2\n",
      "VT = 26e-3\n",
      "# aplicacion del algoritmo\n",
      "e = 1\n",
      "i = 0\n",
      "while abs(e)>0.000000000001:\n",
      "    Vant = V\n",
      "    V = V - f(V,R,I0,n,VT,VS)/fp(V,R,I0,n,VT,VS)\n",
      "    e = (V - Vant)/V #Error de aproximacion\n",
      "    print 'V = ', V\n",
      "print 'error = ', e\n",
      "print '(V, i) = ', (V, i)"
     ],
     "language": "python",
     "metadata": {},
     "outputs": [
      {
       "output_type": "stream",
       "stream": "stdout",
       "text": [
        "V =  0.727139016805\n",
        "V =  0.722154069254\n",
        "V =  0.721902340936\n",
        "V =  0.721901737007\n",
        "V =  0.721901737004\n",
        "V =  0.721901737004\n",
        "error =  0.0\n",
        "(V, i) =  (0.72190173700385352, 0)\n"
       ]
      }
     ],
     "prompt_number": 2
    },
    {
     "cell_type": "markdown",
     "metadata": {},
     "source": [
      "Como se puede observar se llega a una buena soluci\u00f3n"
     ]
    },
    {
     "cell_type": "markdown",
     "metadata": {},
     "source": [
      "En la sexta iteraci\u00f3n del algoritmo de Newton se llega a una soluci\u00f3n que dice tener un error de cero. Sin embargo, \u00a1eso es falso! Pues hay un error de truncamiento (no se trabaja con infinitos decimales)"
     ]
    },
    {
     "cell_type": "code",
     "collapsed": false,
     "input": [
      "#Para la corriente tenemos:\n",
      "import numpy as np\n",
      "I0 = 4e-9\n",
      "VT = 26e-3\n",
      "V = 0.72190173700385352\n",
      "I = I0*(np.exp(V/(2*VT))-1)\n",
      "print 'I = ', I, 'A'\n",
      "print 'I = ', I*1000, 'mA'"
     ],
     "language": "python",
     "metadata": {},
     "outputs": [
      {
       "output_type": "stream",
       "stream": "stdout",
       "text": [
        "I =  0.004278098263 A\n",
        "I =  4.278098263 mA\n"
       ]
      }
     ],
     "prompt_number": 27
    },
    {
     "cell_type": "markdown",
     "metadata": {},
     "source": [
      "De este modo:"
     ]
    },
    {
     "cell_type": "markdown",
     "metadata": {},
     "source": [
      "$\\begin{eqnarray}\n",
      "V \\approx 0,72190173700385352 \\ [V] \\\\\n",
      "I \\approx 4,278098263 \\ [mA]\n",
      "\\end{eqnarray}$"
     ]
    },
    {
     "cell_type": "markdown",
     "metadata": {},
     "source": [
      "Se define el punto $Q$ como $Q(V,I),$ es decir el par ordenado de voltaje y corriente del diodo."
     ]
    },
    {
     "cell_type": "heading",
     "level": 3,
     "metadata": {},
     "source": [
      "Ejercicios"
     ]
    },
    {
     "cell_type": "markdown",
     "metadata": {},
     "source": [
      "1. Escriba la ecuaci\u00f3n de malla si se conecta un diodo extra en el circuito mostrado.\n",
      "2. repita el proceso de la pregunta 1 ahora con 5 diodos extra.\n",
      "3. Por un Diodo de Germanio ($\\eta = 1$) circula una corriente de $I = 10mA$, con una corriente inversa de saturaci\u00f3n de $10nA$ a $0\u00b0C (273k)$. Determine el voltaje termico y el voltaje a trav\u00e9s del diodo. Nota: $V_T = \\frac{k \\times T}{q}$, donde $k:$ constante de Boltzmann $k= 1,3806504 \\times 10^{-23} \\frac{J}{k}$ y $q = 1,6 \\times 10^{-19} C$\n"
     ]
    },
    {
     "cell_type": "raw",
     "metadata": {},
     "source": [
      "Dudas: electrofelpe@gmail.com"
     ]
    },
    {
     "cell_type": "heading",
     "level": 2,
     "metadata": {},
     "source": [
      "Resoluci\u00f3n ejercicio 2:"
     ]
    },
    {
     "cell_type": "code",
     "collapsed": false,
     "input": [],
     "language": "python",
     "metadata": {},
     "outputs": []
    }
   ],
   "metadata": {}
  }
 ]
}