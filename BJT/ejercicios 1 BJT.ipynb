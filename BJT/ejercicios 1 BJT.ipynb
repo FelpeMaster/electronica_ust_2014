{
 "metadata": {
  "name": "",
  "signature": "sha256:db4254d535dcbb967d05c07419229f2201b8bac0796afc5437d46cd8dd81513c"
 },
 "nbformat": 3,
 "nbformat_minor": 0,
 "worksheets": [
  {
   "cells": [
    {
     "cell_type": "heading",
     "level": 1,
     "metadata": {},
     "source": [
      "Ejemplo del transistor."
     ]
    },
    {
     "cell_type": "markdown",
     "metadata": {},
     "source": [
      "En la zona activa directa: \\begin{equation} v_0 = \\frac{16}{9}(4,3 - v_i)\\end{equation}"
     ]
    },
    {
     "cell_type": "markdown",
     "metadata": {},
     "source": [
      "En la zona de corte\n",
      "    \\begin{eqnarray}\n",
      "    I_{C} = \\beta I_B \\\\\n",
      "    I_{C} = \\beta 0 \\\\\n",
      "    \\therefore V_0 = 0\n",
      "    \\end{eqnarray}"
     ]
    },
    {
     "cell_type": "markdown",
     "metadata": {},
     "source": [
      "En la zona de saturaci\u00f3n.\n",
      "    \\begin{eqnarray}\n",
      "    V_{EC} = 0 \\\\\n",
      "     V_0 = R_C I_{C Sat}\\\\\n",
      "     \\therefore V_0 = 5V\n",
      "    \\end{eqnarray}"
     ]
    },
    {
     "cell_type": "code",
     "collapsed": false,
     "input": [
      "#este es el grafico\n",
      "%pylab inline\n",
      "import numpy as np\n",
      "import pylab as pl\n",
      "vi = np.arange(0,5,0.001)\n",
      "IB = (4.3-vi)/180e3\n",
      "\n",
      "for i in range(len(IB)):\n",
      "    if IB[i]<0:\n",
      "        IB[i] = 0\n",
      "\n",
      "b = 80 #beta\n",
      "IC = b*IB\n",
      "RC = 4e3\n",
      "V0 = RC*IC\n",
      "for j in range(len(V0)):\n",
      "    if V0[j]>5:\n",
      "        V0[j] = 5\n",
      "pl.figure(figsize(6,4),dpi=400)\n",
      "pl.xlim([0,5])\n",
      "pl.ylim([-0.2,5.2])\n",
      "pl.grid()\n",
      "pl.plot(vi,V0)\n",
      "pl.xlabel('$v_i$',fontsize=20)\n",
      "pl.ylabel('$v_0$',fontsize=20)\n",
      "pl.show()"
     ],
     "language": "python",
     "metadata": {},
     "outputs": [
      {
       "output_type": "stream",
       "stream": "stdout",
       "text": [
        "Populating the interactive namespace from numpy and matplotlib\n"
       ]
      },
      {
       "metadata": {},
       "output_type": "display_data",
       "png": "[encoded data removed]",
       "text": [
        "<matplotlib.figure.Figure at 0x7f9c035d7d10>"
       ]
      }
     ],
     "prompt_number": 17
    },
    {
     "cell_type": "code",
     "collapsed": false,
     "input": [],
     "language": "python",
     "metadata": {},
     "outputs": [],
     "prompt_number": 4
    },
    {
     "cell_type": "code",
     "collapsed": false,
     "input": [],
     "language": "python",
     "metadata": {},
     "outputs": []
    }
   ],
   "metadata": {}
  }
 ]
}