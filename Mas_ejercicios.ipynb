{
 "metadata": {
  "name": "",
  "signature": "sha256:7b6552a33a9880287a6c0fbdf0fc996c4bc29dea36bde9c5dd2fc0edf2064d80"
 },
 "nbformat": 3,
 "nbformat_minor": 0,
 "worksheets": [
  {
   "cells": [
    {
     "cell_type": "heading",
     "level": 1,
     "metadata": {},
     "source": [
      "Ejercicios"
     ]
    },
    {
     "cell_type": "markdown",
     "metadata": {},
     "source": [
      "1. Determine $R_1, \\ R_2 \\ y \\ R_3$ s\u00ed.  $I_{D1}= 0,2mA, \\ I_{D2}= 0,3mA, \\ I_{D3}= 0,5mA.$ considere $V_{\\gamma} = 0,6V$"
     ]
    },
    {
     "cell_type": "code",
     "collapsed": false,
     "input": [
      "from IPython.core.display import HTML \n",
      "HTML('<img src=\"circuito_4_9.svg\" width=300 height=50/>') "
     ],
     "language": "python",
     "metadata": {},
     "outputs": [
      {
       "html": [
        "<img src=\"circuito_4_9.svg\" width=300 height=50/>"
       ],
       "metadata": {},
       "output_type": "pyout",
       "prompt_number": 5,
       "text": [
        "<IPython.core.display.HTML at 0x7f08b5afc350>"
       ]
      }
     ],
     "prompt_number": 5
    },
    {
     "cell_type": "markdown",
     "metadata": {},
     "source": [
      "Hint: ac\u00e1 claramente todos los diodos est\u00e1n polarizados directamente"
     ]
    },
    {
     "cell_type": "markdown",
     "metadata": {},
     "source": [
      "$2$. Determine el Valor de R para que la corriente que circula en cada uno de los diodos sea igual, s\u00ed $V_{\\gamma} = 0,7V$"
     ]
    },
    {
     "cell_type": "code",
     "collapsed": false,
     "input": [
      "from IPython.core.display import HTML \n",
      "HTML('<img src=\"Page_1.svg\" width=300 height=50/>') "
     ],
     "language": "python",
     "metadata": {},
     "outputs": [
      {
       "html": [
        "<img src=\"Page_1.svg\" width=300 height=50/>"
       ],
       "metadata": {},
       "output_type": "pyout",
       "prompt_number": 9,
       "text": [
        "<IPython.core.display.HTML at 0x7f08b5afcc10>"
       ]
      }
     ],
     "prompt_number": 9
    },
    {
     "cell_type": "markdown",
     "metadata": {},
     "source": [
      "Dudas: electrofelpe@gmail.com"
     ]
    }
   ],
   "metadata": {}
  }
 ]
}