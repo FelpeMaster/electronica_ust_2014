{
 "metadata": {
  "name": "",
  "signature": "sha256:82b194074afcef794dc5fade9dc10a0f303ca72c2b7a0b455435852aafcc0a7d"
 },
 "nbformat": 3,
 "nbformat_minor": 0,
 "worksheets": [
  {
   "cells": [
    {
     "cell_type": "heading",
     "level": 1,
     "metadata": {},
     "source": [
      "Ejercicios"
     ]
    },
    {
     "cell_type": "markdown",
     "metadata": {},
     "source": [
      "1. Determine $R_1, \\ R_2 \\ y \\ R_3$ s\u00ed.  $I_{D1}= 0,2mA, \\ I_{D2}= 0,3mA, \\ I_{D3}= 0,5mA.$ considere $V_{\\gamma} = 0,6V$"
     ]
    },
    {
     "cell_type": "code",
     "collapsed": false,
     "input": [
      "from IPython.core.display import HTML \n",
      "HTML('<img src=\"circuito_4_9.svg\" width=300 height=50/>') "
     ],
     "language": "python",
     "metadata": {},
     "outputs": [
      {
       "html": [
        "<img src=\"circuito_4_9.svg\" width=300 height=50/>"
       ],
       "metadata": {},
       "output_type": "pyout",
       "prompt_number": 5,
       "text": [
        "<IPython.core.display.HTML at 0x7f08b5afc350>"
       ]
      }
     ],
     "prompt_number": 5
    },
    {
     "cell_type": "markdown",
     "metadata": {},
     "source": [
      "Hint: ac\u00e1 claramente todos los diodos est\u00e1n polarizados directamente"
     ]
    },
    {
     "cell_type": "markdown",
     "metadata": {},
     "source": [
      "$2$. Determine el Valor de R para que la corriente que circula en cada uno de los diodos sea igual, s\u00ed $V_{\\gamma} = 0,7V$"
     ]
    },
    {
     "cell_type": "code",
     "collapsed": false,
     "input": [
      "from IPython.core.display import HTML \n",
      "HTML('<img src=\"Page_1.svg\" width=300 height=50/>') "
     ],
     "language": "python",
     "metadata": {},
     "outputs": [
      {
       "html": [
        "<img src=\"Page_1.svg\" width=300 height=50/>"
       ],
       "metadata": {},
       "output_type": "pyout",
       "prompt_number": 9,
       "text": [
        "<IPython.core.display.HTML at 0x7f08b5afcc10>"
       ]
      }
     ],
     "prompt_number": 9
    },
    {
     "cell_type": "markdown",
     "metadata": {},
     "source": [
      "$3$.  En el circuito mostrado a continuaci\u00f3n a) $R_1 = 2,0 k \\Omega, \\ R_2 = 1,1 k\\Omega$ Determine $I_{D1}, I_{D2}, \\ y \\ V_A$ b) repita los pasos anteriores si $R_2 = 2,5k\\Omega.$ c) encuentre el valor de $R_2$ para que $V_A = 0V$"
     ]
    },
    {
     "cell_type": "code",
     "collapsed": false,
     "input": [
      "from IPython.core.display import HTML \n",
      "HTML('<img src=\"ejercicio_4_9_3.svg\" width=300 height=100/>') "
     ],
     "language": "python",
     "metadata": {},
     "outputs": [
      {
       "html": [
        "<img src=\"ejercicio_4_9_3.svg\" width=300 height=100/>"
       ],
       "metadata": {},
       "output_type": "pyout",
       "prompt_number": 11,
       "text": [
        "<IPython.core.display.HTML at 0x7f08b5afc310>"
       ]
      }
     ],
     "prompt_number": 11
    },
    {
     "cell_type": "markdown",
     "metadata": {},
     "source": [
      "Dudas: electrofelpe@gmail.com"
     ]
    }
   ],
   "metadata": {}
  }
 ]
}